{
  "nbformat": 4,
  "nbformat_minor": 0,
  "metadata": {
    "colab": {
      "provenance": []
    },
    "kernelspec": {
      "name": "python3",
      "display_name": "Python 3"
    },
    "language_info": {
      "name": "python"
    }
  },
  "cells": [
    {
      "cell_type": "code",
      "source": [
        "import pandas as pd\n",
        "\n",
        "# Explicit list of your files\n",
        "files = [\n",
        "    \"/content/E0.csv\",\n",
        "    \"/content/E0 (1).csv\",\n",
        "    \"/content/E0 (2).csv\",\n",
        "    \"/content/E0 (3).csv\",\n",
        "    \"/content/E0 (4).csv\",\n",
        "    \"/content/E0 (5).csv\",\n",
        "    \"/content/E0 (6).csv\",\n",
        "    \"/content/E0 (7).csv\",\n",
        "    \"/content/E0 (8).csv\",\n",
        "    \"/content/E0 (9).csv\"\n",
        "]\n",
        "\n",
        "dataframes = []\n",
        "\n",
        "for i, file in enumerate(files):\n",
        "    df = pd.read_csv(file)\n",
        "    df[\"Season\"] = f\"Season_{i+1}\"  # add season tag\n",
        "    dataframes.append(df)\n",
        "\n",
        "merged = pd.concat(dataframes, ignore_index=True)\n",
        "\n",
        "# Save merged file\n",
        "merged.to_csv(\"/content/premier_league_merged.csv\", index=False)\n",
        "\n",
        "print(\"✅ Merged dataset created. Total matches:\", len(merged))\n"
      ],
      "metadata": {
        "id": "2MHjSdTPSZbz"
      },
      "execution_count": null,
      "outputs": []
    },
    {
      "cell_type": "code",
      "source": [],
      "metadata": {
        "id": "xrquzebHSdXA"
      },
      "execution_count": null,
      "outputs": []
    },
    {
      "cell_type": "code",
      "execution_count": 2,
      "metadata": {
        "colab": {
          "base_uri": "https://localhost:8080/"
        },
        "id": "Kim8rkd4857I",
        "outputId": "7b9be81f-743e-4eab-b09e-f4ccb8d8e2ee"
      },
      "outputs": [
        {
          "output_type": "stream",
          "name": "stdout",
          "text": [
            "  Div        Date   Time     HomeTeam     AwayTeam  FTHG  FTAG FTR  HTHG  \\\n",
            "0  E0  15/08/2025  20:00    Liverpool  Bournemouth     4     2   H     1   \n",
            "1  E0  16/08/2025  12:30  Aston Villa    Newcastle     0     0   D     0   \n",
            "2  E0  16/08/2025  15:00     Brighton       Fulham     1     1   D     0   \n",
            "3  E0  16/08/2025  15:00   Sunderland     West Ham     3     0   H     0   \n",
            "4  E0  16/08/2025  15:00    Tottenham      Burnley     3     0   H     1   \n",
            "\n",
            "   HTAG  ... BbMx>2.5 BbAv>2.5  BbMx<2.5  BbAv<2.5  BbAH  BbAHh  BbMxAHH  \\\n",
            "0     0  ...      NaN      NaN       NaN       NaN   NaN    NaN      NaN   \n",
            "1     0  ...      NaN      NaN       NaN       NaN   NaN    NaN      NaN   \n",
            "2     0  ...      NaN      NaN       NaN       NaN   NaN    NaN      NaN   \n",
            "3     0  ...      NaN      NaN       NaN       NaN   NaN    NaN      NaN   \n",
            "4     0  ...      NaN      NaN       NaN       NaN   NaN    NaN      NaN   \n",
            "\n",
            "   BbAvAHH  BbMxAHA  BbAvAHA  \n",
            "0      NaN      NaN      NaN  \n",
            "1      NaN      NaN      NaN  \n",
            "2      NaN      NaN      NaN  \n",
            "3      NaN      NaN      NaN  \n",
            "4      NaN      NaN      NaN  \n",
            "\n",
            "[5 rows x 181 columns]\n",
            "\n",
            "Columns:\n",
            " Index(['Div', 'Date', 'Time', 'HomeTeam', 'AwayTeam', 'FTHG', 'FTAG', 'FTR',\n",
            "       'HTHG', 'HTAG',\n",
            "       ...\n",
            "       'BbMx>2.5', 'BbAv>2.5', 'BbMx<2.5', 'BbAv<2.5', 'BbAH', 'BbAHh',\n",
            "       'BbMxAHH', 'BbAvAHH', 'BbMxAHA', 'BbAvAHA'],\n",
            "      dtype='object', length=181)\n",
            "\n",
            "Missing values:\n",
            " Div            0\n",
            "Date           0\n",
            "Time        1140\n",
            "HomeTeam       0\n",
            "AwayTeam       0\n",
            "            ... \n",
            "BbAHh       2290\n",
            "BbMxAHH     2290\n",
            "BbAvAHH     2290\n",
            "BbMxAHA     2290\n",
            "BbAvAHA     2290\n",
            "Length: 181, dtype: int64\n"
          ]
        }
      ],
      "source": [
        "import pandas as pd\n",
        "\n",
        "# Load dataset\n",
        "df = pd.read_csv(\"/content/premier_league_merged.csv\")\n",
        "\n",
        "# See first 5 rows\n",
        "print(df.head())\n",
        "\n",
        "# Check column names\n",
        "print(\"\\nColumns:\\n\", df.columns)\n",
        "\n",
        "# Check missing values\n",
        "print(\"\\nMissing values:\\n\", df.isnull().sum())\n"
      ]
    },
    {
      "cell_type": "code",
      "source": [
        "df.dropna()"
      ],
      "metadata": {
        "colab": {
          "base_uri": "https://localhost:8080/",
          "height": 99
        },
        "id": "ILym285U9BFt",
        "outputId": "636110a3-6ebd-4179-b039-40b35d1cd894"
      },
      "execution_count": 3,
      "outputs": [
        {
          "output_type": "execute_result",
          "data": {
            "text/plain": [
              "Empty DataFrame\n",
              "Columns: [Div, Date, Time, HomeTeam, AwayTeam, FTHG, FTAG, FTR, HTHG, HTAG, HTR, Referee, HS, AS, HST, AST, HF, AF, HC, AC, HY, AY, HR, AR, B365H, B365D, B365A, BFDH, BFDD, BFDA, BMGMH, BMGMD, BMGMA, BVH, BVD, BVA, BWH, BWD, BWA, CLH, CLD, CLA, LBH, LBD, LBA, PSH, PSD, PSA, MaxH, MaxD, MaxA, AvgH, AvgD, AvgA, BFEH, BFED, BFEA, B365>2.5, B365<2.5, P>2.5, P<2.5, Max>2.5, Max<2.5, Avg>2.5, Avg<2.5, BFE>2.5, BFE<2.5, AHh, B365AHH, B365AHA, PAHH, PAHA, MaxAHH, MaxAHA, AvgAHH, AvgAHA, BFEAHH, BFEAHA, B365CH, B365CD, B365CA, BFDCH, BFDCD, BFDCA, BMGMCH, BMGMCD, BMGMCA, BVCH, BVCD, BVCA, BWCH, BWCD, BWCA, CLCH, CLCD, CLCA, LBCH, LBCD, LBCA, PSCH, ...]\n",
              "Index: []\n",
              "\n",
              "[0 rows x 181 columns]"
            ],
            "text/html": [
              "\n",
              "  <div id=\"df-90f24066-b5d5-4a5c-9d36-f6b209b3424b\" class=\"colab-df-container\">\n",
              "    <div>\n",
              "<style scoped>\n",
              "    .dataframe tbody tr th:only-of-type {\n",
              "        vertical-align: middle;\n",
              "    }\n",
              "\n",
              "    .dataframe tbody tr th {\n",
              "        vertical-align: top;\n",
              "    }\n",
              "\n",
              "    .dataframe thead th {\n",
              "        text-align: right;\n",
              "    }\n",
              "</style>\n",
              "<table border=\"1\" class=\"dataframe\">\n",
              "  <thead>\n",
              "    <tr style=\"text-align: right;\">\n",
              "      <th></th>\n",
              "      <th>Div</th>\n",
              "      <th>Date</th>\n",
              "      <th>Time</th>\n",
              "      <th>HomeTeam</th>\n",
              "      <th>AwayTeam</th>\n",
              "      <th>FTHG</th>\n",
              "      <th>FTAG</th>\n",
              "      <th>FTR</th>\n",
              "      <th>HTHG</th>\n",
              "      <th>HTAG</th>\n",
              "      <th>...</th>\n",
              "      <th>BbMx&gt;2.5</th>\n",
              "      <th>BbAv&gt;2.5</th>\n",
              "      <th>BbMx&lt;2.5</th>\n",
              "      <th>BbAv&lt;2.5</th>\n",
              "      <th>BbAH</th>\n",
              "      <th>BbAHh</th>\n",
              "      <th>BbMxAHH</th>\n",
              "      <th>BbAvAHH</th>\n",
              "      <th>BbMxAHA</th>\n",
              "      <th>BbAvAHA</th>\n",
              "    </tr>\n",
              "  </thead>\n",
              "  <tbody>\n",
              "  </tbody>\n",
              "</table>\n",
              "<p>0 rows × 181 columns</p>\n",
              "</div>\n",
              "    <div class=\"colab-df-buttons\">\n",
              "\n",
              "  <div class=\"colab-df-container\">\n",
              "    <button class=\"colab-df-convert\" onclick=\"convertToInteractive('df-90f24066-b5d5-4a5c-9d36-f6b209b3424b')\"\n",
              "            title=\"Convert this dataframe to an interactive table.\"\n",
              "            style=\"display:none;\">\n",
              "\n",
              "  <svg xmlns=\"http://www.w3.org/2000/svg\" height=\"24px\" viewBox=\"0 -960 960 960\">\n",
              "    <path d=\"M120-120v-720h720v720H120Zm60-500h600v-160H180v160Zm220 220h160v-160H400v160Zm0 220h160v-160H400v160ZM180-400h160v-160H180v160Zm440 0h160v-160H620v160ZM180-180h160v-160H180v160Zm440 0h160v-160H620v160Z\"/>\n",
              "  </svg>\n",
              "    </button>\n",
              "\n",
              "  <style>\n",
              "    .colab-df-container {\n",
              "      display:flex;\n",
              "      gap: 12px;\n",
              "    }\n",
              "\n",
              "    .colab-df-convert {\n",
              "      background-color: #E8F0FE;\n",
              "      border: none;\n",
              "      border-radius: 50%;\n",
              "      cursor: pointer;\n",
              "      display: none;\n",
              "      fill: #1967D2;\n",
              "      height: 32px;\n",
              "      padding: 0 0 0 0;\n",
              "      width: 32px;\n",
              "    }\n",
              "\n",
              "    .colab-df-convert:hover {\n",
              "      background-color: #E2EBFA;\n",
              "      box-shadow: 0px 1px 2px rgba(60, 64, 67, 0.3), 0px 1px 3px 1px rgba(60, 64, 67, 0.15);\n",
              "      fill: #174EA6;\n",
              "    }\n",
              "\n",
              "    .colab-df-buttons div {\n",
              "      margin-bottom: 4px;\n",
              "    }\n",
              "\n",
              "    [theme=dark] .colab-df-convert {\n",
              "      background-color: #3B4455;\n",
              "      fill: #D2E3FC;\n",
              "    }\n",
              "\n",
              "    [theme=dark] .colab-df-convert:hover {\n",
              "      background-color: #434B5C;\n",
              "      box-shadow: 0px 1px 3px 1px rgba(0, 0, 0, 0.15);\n",
              "      filter: drop-shadow(0px 1px 2px rgba(0, 0, 0, 0.3));\n",
              "      fill: #FFFFFF;\n",
              "    }\n",
              "  </style>\n",
              "\n",
              "    <script>\n",
              "      const buttonEl =\n",
              "        document.querySelector('#df-90f24066-b5d5-4a5c-9d36-f6b209b3424b button.colab-df-convert');\n",
              "      buttonEl.style.display =\n",
              "        google.colab.kernel.accessAllowed ? 'block' : 'none';\n",
              "\n",
              "      async function convertToInteractive(key) {\n",
              "        const element = document.querySelector('#df-90f24066-b5d5-4a5c-9d36-f6b209b3424b');\n",
              "        const dataTable =\n",
              "          await google.colab.kernel.invokeFunction('convertToInteractive',\n",
              "                                                    [key], {});\n",
              "        if (!dataTable) return;\n",
              "\n",
              "        const docLinkHtml = 'Like what you see? Visit the ' +\n",
              "          '<a target=\"_blank\" href=https://colab.research.google.com/notebooks/data_table.ipynb>data table notebook</a>'\n",
              "          + ' to learn more about interactive tables.';\n",
              "        element.innerHTML = '';\n",
              "        dataTable['output_type'] = 'display_data';\n",
              "        await google.colab.output.renderOutput(dataTable, element);\n",
              "        const docLink = document.createElement('div');\n",
              "        docLink.innerHTML = docLinkHtml;\n",
              "        element.appendChild(docLink);\n",
              "      }\n",
              "    </script>\n",
              "  </div>\n",
              "\n",
              "\n",
              "    </div>\n",
              "  </div>\n"
            ],
            "application/vnd.google.colaboratory.intrinsic+json": {
              "type": "dataframe"
            }
          },
          "metadata": {},
          "execution_count": 3
        }
      ]
    },
    {
      "cell_type": "code",
      "source": [],
      "metadata": {
        "colab": {
          "base_uri": "https://localhost:8080/"
        },
        "id": "dzcngHON9GEY",
        "outputId": "b51041d7-a5e3-4d2d-ed67-53c483c086b1"
      },
      "execution_count": 4,
      "outputs": [
        {
          "output_type": "stream",
          "name": "stdout",
          "text": [
            "\n",
            "Missing values:\n",
            " Div            0\n",
            "Date           0\n",
            "Time        1140\n",
            "HomeTeam       0\n",
            "AwayTeam       0\n",
            "            ... \n",
            "BbAHh       2290\n",
            "BbMxAHH     2290\n",
            "BbAvAHH     2290\n",
            "BbMxAHA     2290\n",
            "BbAvAHA     2290\n",
            "Length: 181, dtype: int64\n"
          ]
        }
      ]
    },
    {
      "cell_type": "code",
      "source": [
        "df = df.dropna(axis=1)\n"
      ],
      "metadata": {
        "id": "0Nlw8F_d9K_L"
      },
      "execution_count": 5,
      "outputs": []
    },
    {
      "cell_type": "code",
      "source": [
        "print(\"\\nMissing values:\\n\", df.isnull().sum())"
      ],
      "metadata": {
        "colab": {
          "base_uri": "https://localhost:8080/"
        },
        "id": "44DQBVlT9Yrn",
        "outputId": "17143ed3-fcd8-46d6-f403-68f886def392"
      },
      "execution_count": 6,
      "outputs": [
        {
          "output_type": "stream",
          "name": "stdout",
          "text": [
            "\n",
            "Missing values:\n",
            " Div         0\n",
            "Date        0\n",
            "HomeTeam    0\n",
            "AwayTeam    0\n",
            "FTHG        0\n",
            "FTAG        0\n",
            "FTR         0\n",
            "HTHG        0\n",
            "HTAG        0\n",
            "HTR         0\n",
            "Referee     0\n",
            "HS          0\n",
            "AS          0\n",
            "HST         0\n",
            "AST         0\n",
            "HF          0\n",
            "AF          0\n",
            "HC          0\n",
            "AC          0\n",
            "HY          0\n",
            "AY          0\n",
            "HR          0\n",
            "AR          0\n",
            "B365H       0\n",
            "B365D       0\n",
            "B365A       0\n",
            "PSH         0\n",
            "PSD         0\n",
            "PSA         0\n",
            "PSCH        0\n",
            "PSCD        0\n",
            "PSCA        0\n",
            "Season      0\n",
            "dtype: int64\n"
          ]
        }
      ]
    },
    {
      "cell_type": "code",
      "source": [
        "def match_result(row):\n",
        "    if row[\"FTHG\"] > row[\"FTAG\"]:\n",
        "        return \"H\"\n",
        "    elif row[\"FTHG\"] < row[\"FTAG\"]:\n",
        "        return \"A\"\n",
        "    else:\n",
        "        return \"D\"\n",
        "\n",
        "df[\"result\"] = df.apply(match_result, axis=1)\n"
      ],
      "metadata": {
        "id": "0nyHTBm99ac-"
      },
      "execution_count": 8,
      "outputs": []
    },
    {
      "cell_type": "code",
      "source": [
        "from sklearn.preprocessing import LabelEncoder\n",
        "\n",
        "# Create encoder\n",
        "team_encoder = LabelEncoder()\n",
        "\n",
        "# Fit on all teams (both home and away)\n",
        "all_teams = pd.concat([df[\"HomeTeam\"], df[\"AwayTeam\"]])\n",
        "team_encoder.fit(all_teams)\n",
        "\n",
        "# Transform\n",
        "df[\"HomeTeam_enc\"] = team_encoder.transform(df[\"HomeTeam\"])\n",
        "df[\"AwayTeam_enc\"] = team_encoder.transform(df[\"AwayTeam\"])\n",
        "\n",
        "# Features and target\n",
        "X = df[[\"HomeTeam_enc\", \"AwayTeam_enc\"]]\n",
        "y = df[\"FTR\"]   # Full Time Result (H/D/A)\n"
      ],
      "metadata": {
        "id": "v4mMX60-BCZO"
      },
      "execution_count": 13,
      "outputs": []
    },
    {
      "cell_type": "code",
      "source": [
        "from sklearn.model_selection import train_test_split\n",
        "from sklearn.ensemble import RandomForestClassifier\n",
        "from sklearn.metrics import accuracy_score, classification_report\n",
        "\n",
        "X_train, X_test, y_train, y_test = train_test_split(X, y, test_size=0.2, random_state=42)\n",
        "\n",
        "model = RandomForestClassifier(n_estimators=100, random_state=42)\n",
        "model.fit(X_train, y_train)\n",
        "\n",
        "y_pred = model.predict(X_test)\n",
        "\n",
        "print(\"Accuracy:\", accuracy_score(y_test, y_pred))\n",
        "print(classification_report(y_test, y_pred))\n"
      ],
      "metadata": {
        "colab": {
          "base_uri": "https://localhost:8080/"
        },
        "id": "HPldm5mlBDzS",
        "outputId": "25e6ab56-36b7-4c4d-8764-a023dba9918b"
      },
      "execution_count": 14,
      "outputs": [
        {
          "output_type": "stream",
          "name": "stdout",
          "text": [
            "Accuracy: 0.4679300291545189\n",
            "              precision    recall  f1-score   support\n",
            "\n",
            "           A       0.49      0.47      0.48       232\n",
            "           D       0.26      0.20      0.23       157\n",
            "           H       0.53      0.61      0.56       297\n",
            "\n",
            "    accuracy                           0.47       686\n",
            "   macro avg       0.43      0.43      0.42       686\n",
            "weighted avg       0.45      0.47      0.46       686\n",
            "\n"
          ]
        }
      ]
    },
    {
      "cell_type": "code",
      "source": [
        "import pickle\n",
        "\n",
        "with open(\"baseline_model.pkl\", \"wb\") as f:\n",
        "    pickle.dump(model, f)\n",
        "\n",
        "with open(\"team_encoder.pkl\", \"wb\") as f:\n",
        "    pickle.dump(team_encoder, f)\n"
      ],
      "metadata": {
        "id": "y8BLS3WbBGmM"
      },
      "execution_count": 15,
      "outputs": []
    },
    {
      "cell_type": "code",
      "source": [
        "# Encode target (Full Time Result)\n",
        "result_encoder = LabelEncoder()\n",
        "y = result_encoder.fit_transform(df[\"FTR\"])\n",
        "\n",
        "# Save it\n",
        "with open(\"result_encoder.pkl\", \"wb\") as f:\n",
        "    pickle.dump(result_encoder, f)\n"
      ],
      "metadata": {
        "id": "5zjD3NG0AwiI"
      },
      "execution_count": 16,
      "outputs": []
    },
    {
      "cell_type": "code",
      "source": [
        "import pickle\n",
        "import pandas as pd\n",
        "\n",
        "# Load trained model and encoder\n",
        "model = pickle.load(open(\"baseline_model.pkl\", \"rb\"))\n",
        "team_encoder = pickle.load(open(\"team_encoder.pkl\", \"rb\"))\n",
        "\n",
        "# Today's match\n",
        "home_team = \"Newcastle\"\n",
        "away_team = \"Liverpool\"\n",
        "\n",
        "# Encode teams\n",
        "home_enc = team_encoder.transform([home_team])[0]\n",
        "away_enc = team_encoder.transform([away_team])[0]\n",
        "\n",
        "# Use the exact column names from training\n",
        "match_features = pd.DataFrame([[home_enc, away_enc]], columns=[\"HomeTeam_enc\", \"AwayTeam_enc\"])\n",
        "\n",
        "# Predict\n",
        "pred = model.predict(match_features)[0]\n",
        "\n",
        "# Map prediction to label\n",
        "inverse_map = {0: \"H\", 1: \"D\", 2: \"A\"}\n",
        "label = inverse_map.get(pred, pred)\n",
        "\n",
        "mapping = {\"H\": f\"{home_team} Win\", \"D\": \"Draw\", \"A\": f\"{away_team} Win\"}\n",
        "prediction_text = mapping.get(label, label)\n",
        "\n",
        "# Prediction probabilities\n",
        "probas = model.predict_proba(match_features)[0]\n",
        "proba_map = dict(zip(model.classes_, probas))\n",
        "proba_readable = {mapping.get(inverse_map.get(k, k), k): round(v*100, 1) for k, v in proba_map.items()}\n",
        "\n",
        "print(f\"{home_team} vs {away_team} Prediction: **{prediction_text}**\")\n",
        "print(\"Probabilities:\", proba_readable)\n"
      ],
      "metadata": {
        "colab": {
          "base_uri": "https://localhost:8080/"
        },
        "id": "yigQPS-XCNL1",
        "outputId": "ad9a7afd-7da5-4b80-b23d-e07ed42272ca"
      },
      "execution_count": 31,
      "outputs": [
        {
          "output_type": "stream",
          "name": "stdout",
          "text": [
            "Newcastle vs Liverpool Prediction: **Liverpool Win**\n",
            "Probabilities: {'Liverpool Win': np.float64(86.2), 'Draw': np.float64(13.8), 'Newcastle Win': np.float64(0.0)}\n"
          ]
        }
      ]
    },
    {
      "cell_type": "code",
      "source": [
        "import matplotlib.pyplot as plt\n",
        "\n",
        "# Data for plotting\n",
        "labels = list(proba_readable.keys())\n",
        "probabilities = list(proba_readable.values())\n",
        "\n",
        "plt.figure(figsize=(6,4))\n",
        "bars = plt.bar(labels, probabilities, color=['green', 'orange', 'red'])\n",
        "plt.title(f\"{home_team} vs {away_team} - Match Outcome Probabilities\")\n",
        "plt.ylabel(\"Probability (%)\")\n",
        "plt.ylim(0, 100)\n",
        "\n",
        "# Annotate percentages on bars\n",
        "for bar, prob in zip(bars, probabilities):\n",
        "    plt.text(bar.get_x() + bar.get_width()/2, bar.get_height() + 1, f\"{prob}%\", ha='center', fontsize=11)\n",
        "\n",
        "plt.show()\n"
      ],
      "metadata": {
        "colab": {
          "base_uri": "https://localhost:8080/",
          "height": 391
        },
        "id": "Z554zvYtDle3",
        "outputId": "f93be33a-d8ec-4f93-e2c3-788e058ef82a"
      },
      "execution_count": 32,
      "outputs": [
        {
          "output_type": "display_data",
          "data": {
            "text/plain": [
              "<Figure size 600x400 with 1 Axes>"
            ],
            "image/png": "[encoded data removed]"
          },
          "metadata": {}
        }
      ]
    },
    {
      "cell_type": "code",
      "source": [
        "plt.figure(figsize=(6,6))\n",
        "plt.pie(probabilities, labels=labels, autopct='%1.1f%%', colors=['green', 'orange', 'red'], startangle=90)\n",
        "plt.title(f\"{home_team} vs {away_team} - Match Outcome Probabilities\")\n",
        "plt.show()\n"
      ],
      "metadata": {
        "colab": {
          "base_uri": "https://localhost:8080/",
          "height": 521
        },
        "id": "IOFUoKZtDocx",
        "outputId": "3398315a-90c6-4f1e-9c4b-6f17a75142b5"
      },
      "execution_count": 33,
      "outputs": [
        {
          "output_type": "display_data",
          "data": {
            "text/plain": [
              "<Figure size 600x600 with 1 Axes>"
            ],
            "image/png": "[encoded data removed]"
          },
          "metadata": {}
        }
      ]
    },
    {
      "cell_type": "code",
      "source": [
        "import seaborn as sns\n",
        "import matplotlib.pyplot as plt\n",
        "plt.figure(figsize=(6,4))\n",
        "sns.barplot(x=labels, y=probabilities, palette=['green' if l=='Home Win' else 'orange' if l=='Draw' else 'red' for l in labels])\n",
        "plt.title(f\"{home_team} vs {away_team} Prediction: {prediction_text}\")\n",
        "plt.ylabel(\"Probability (%)\")\n",
        "plt.ylim(0, 100)\n",
        "plt.show()\n"
      ],
      "metadata": {
        "colab": {
          "base_uri": "https://localhost:8080/",
          "height": 498
        },
        "id": "ZzHG8uIhCUT1",
        "outputId": "308ad582-ab71-455c-f9af-df894828addf"
      },
      "execution_count": 26,
      "outputs": [
        {
          "output_type": "stream",
          "name": "stderr",
          "text": [
            "/tmp/ipython-input-2524650991.py:4: FutureWarning: \n",
            "\n",
            "Passing `palette` without assigning `hue` is deprecated and will be removed in v0.14.0. Assign the `x` variable to `hue` and set `legend=False` for the same effect.\n",
            "\n",
            "  sns.barplot(x=labels, y=probabilities, palette=['green' if l=='Home Win' else 'orange' if l=='Draw' else 'red' for l in labels])\n"
          ]
        },
        {
          "output_type": "display_data",
          "data": {
            "text/plain": [
              "<Figure size 600x400 with 1 Axes>"
            ],
            "image/png": "[encoded data removed]"
          },
          "metadata": {}
        }
      ]
    },
    {
      "cell_type": "code",
      "source": [],
      "metadata": {
        "id": "F8WZt2nFDfMl"
      },
      "execution_count": null,
      "outputs": []
    }
  ]
}